{
 "cells": [
  {
   "cell_type": "markdown",
   "metadata": {},
   "source": [
    "Dataset “blood.xlsx” (X1 = систолическое давление (зависимая переменная), X2 = возраст пациента в годах, X3 = вес в фунтах (две независимые переменные)): \n",
    "\n",
    "Постройте модель ридж регрессии для X1 как функции от X2 и  X3. Используйте функции cv.plot и bias.plot для нахождения параметра k. \n",
    "\n",
    "Проверьте мультиколлинеарность данных. \n",
    "\n",
    "Проверьте значимость построенного уравнения регрессии. \n",
    "\n",
    "Проведите сравнительной анализ полученной модели с моделью линейной регрессии (когда оценки найдены по МНК). \n",
    "\n",
    "Dataset “Kuiper.xls” (price – зависимая переменная, mileage, liter, cruise, sound, leather – независимые переменные): \n",
    "\n",
    "Постройте квантильную регрессию для различных значений параметров «тау», Y = price – зависимая переменная, mileage, liter, cruise, sound, leather leather – независимые переменные). \n",
    "\n",
    "Изобразите результаты на графиках. \n",
    "\n",
    "Постройте модель линейной регрессии и сравните эту модель с моделью медианной регрессии. \n",
    "\n",
    "Dataset “cigarettes.txt”: (переменные по столбцам: carbon monoxide, tar, nicotine, weight): \n",
    "\n",
    "Постройте несколько моделей нелинейной (квадратичной и кубической) регрессии с зависимой переменной y=carbon monoxide, и независимыми переменными:  x1=tar, x2=nicotine, x3=weight.  \n",
    "\n",
    "Постройте модель линейной регрессии и сравните эту модель с моделями нелинейной регрессии. \n",
    "\n",
    " "
   ]
  },
  {
   "cell_type": "markdown",
   "metadata": {},
   "source": [
    "1. Dataset “blood.xlsx”"
   ]
  },
  {
   "cell_type": "code",
   "execution_count": 2,
   "metadata": {},
   "outputs": [],
   "source": [
    "import pandas as pd\n",
    "from sklearn.linear_model import RidgeCV, LinearRegression\n",
    "import statsmodels.api as sm\n",
    "from statsmodels.stats.outliers_influence import variance_inflation_factor\n",
    "import matplotlib.pyplot as plt\n",
    "import numpy as np"
   ]
  },
  {
   "cell_type": "code",
   "execution_count": 3,
   "metadata": {},
   "outputs": [
    {
     "data": {
      "text/html": [
       "<div>\n",
       "<style scoped>\n",
       "    .dataframe tbody tr th:only-of-type {\n",
       "        vertical-align: middle;\n",
       "    }\n",
       "\n",
       "    .dataframe tbody tr th {\n",
       "        vertical-align: top;\n",
       "    }\n",
       "\n",
       "    .dataframe thead th {\n",
       "        text-align: right;\n",
       "    }\n",
       "</style>\n",
       "<table border=\"1\" class=\"dataframe\">\n",
       "  <thead>\n",
       "    <tr style=\"text-align: right;\">\n",
       "      <th></th>\n",
       "      <th>X1</th>\n",
       "      <th>X2</th>\n",
       "      <th>X3</th>\n",
       "    </tr>\n",
       "  </thead>\n",
       "  <tbody>\n",
       "    <tr>\n",
       "      <th>0</th>\n",
       "      <td>132</td>\n",
       "      <td>52</td>\n",
       "      <td>173</td>\n",
       "    </tr>\n",
       "    <tr>\n",
       "      <th>1</th>\n",
       "      <td>143</td>\n",
       "      <td>59</td>\n",
       "      <td>184</td>\n",
       "    </tr>\n",
       "    <tr>\n",
       "      <th>2</th>\n",
       "      <td>153</td>\n",
       "      <td>67</td>\n",
       "      <td>194</td>\n",
       "    </tr>\n",
       "    <tr>\n",
       "      <th>3</th>\n",
       "      <td>162</td>\n",
       "      <td>73</td>\n",
       "      <td>211</td>\n",
       "    </tr>\n",
       "    <tr>\n",
       "      <th>4</th>\n",
       "      <td>154</td>\n",
       "      <td>64</td>\n",
       "      <td>196</td>\n",
       "    </tr>\n",
       "    <tr>\n",
       "      <th>5</th>\n",
       "      <td>168</td>\n",
       "      <td>74</td>\n",
       "      <td>220</td>\n",
       "    </tr>\n",
       "    <tr>\n",
       "      <th>6</th>\n",
       "      <td>137</td>\n",
       "      <td>54</td>\n",
       "      <td>188</td>\n",
       "    </tr>\n",
       "    <tr>\n",
       "      <th>7</th>\n",
       "      <td>149</td>\n",
       "      <td>61</td>\n",
       "      <td>188</td>\n",
       "    </tr>\n",
       "    <tr>\n",
       "      <th>8</th>\n",
       "      <td>159</td>\n",
       "      <td>65</td>\n",
       "      <td>207</td>\n",
       "    </tr>\n",
       "    <tr>\n",
       "      <th>9</th>\n",
       "      <td>128</td>\n",
       "      <td>46</td>\n",
       "      <td>167</td>\n",
       "    </tr>\n",
       "    <tr>\n",
       "      <th>10</th>\n",
       "      <td>166</td>\n",
       "      <td>72</td>\n",
       "      <td>217</td>\n",
       "    </tr>\n",
       "  </tbody>\n",
       "</table>\n",
       "</div>"
      ],
      "text/plain": [
       "     X1  X2   X3\n",
       "0   132  52  173\n",
       "1   143  59  184\n",
       "2   153  67  194\n",
       "3   162  73  211\n",
       "4   154  64  196\n",
       "5   168  74  220\n",
       "6   137  54  188\n",
       "7   149  61  188\n",
       "8   159  65  207\n",
       "9   128  46  167\n",
       "10  166  72  217"
      ]
     },
     "execution_count": 3,
     "metadata": {},
     "output_type": "execute_result"
    }
   ],
   "source": [
    "blood_data = pd.read_excel('Datasets/blood.xlsx')\n",
    "X = blood_data[['X2', 'X3']] \n",
    "y = blood_data['X1']\n",
    "blood_data"
   ]
  },
  {
   "cell_type": "code",
   "execution_count": 4,
   "metadata": {},
   "outputs": [],
   "source": [
    "X_with_const = sm.add_constant(X) "
   ]
  },
  {
   "cell_type": "markdown",
   "metadata": {},
   "source": [
    "Построение ридж-регрессии"
   ]
  },
  {
   "cell_type": "code",
   "execution_count": 6,
   "metadata": {},
   "outputs": [
    {
     "name": "stdout",
     "output_type": "stream",
     "text": [
      "Лучший параметр регуляризации k: 43.287612810830616\n",
      "Коэффициенты ридж-регрессии: [0.64755353 0.43507973]\n",
      "R^2 для ридж-регрессии: 0.9746\n"
     ]
    },
    {
     "name": "stderr",
     "output_type": "stream",
     "text": [
      "C:\\Users\\Евгений\\AppData\\Roaming\\Python\\Python311\\site-packages\\sklearn\\linear_model\\_ridge.py:2341: FutureWarning: 'store_cv_values' is deprecated in version 1.5 and will be removed in 1.7. Use 'store_cv_results' instead.\n",
      "  warnings.warn(\n"
     ]
    }
   ],
   "source": [
    "alphas = np.logspace(-6, 6, 100)\n",
    "ridge_model = RidgeCV(alphas=alphas, store_cv_values=True).fit(X, y)\n",
    "print(f\"Лучший параметр регуляризации k: {ridge_model.alpha_}\")\n",
    "print(\"Коэффициенты ридж-регрессии:\", ridge_model.coef_)\n",
    "print(f\"R^2 для ридж-регрессии: {ridge_model.score(X, y):.4f}\")"
   ]
  },
  {
   "cell_type": "markdown",
   "metadata": {},
   "source": [
    " Проверка мультиколлинеарности с помощью VIF"
   ]
  },
  {
   "cell_type": "code",
   "execution_count": 7,
   "metadata": {},
   "outputs": [
    {
     "data": {
      "text/html": [
       "<div>\n",
       "<style scoped>\n",
       "    .dataframe tbody tr th:only-of-type {\n",
       "        vertical-align: middle;\n",
       "    }\n",
       "\n",
       "    .dataframe tbody tr th {\n",
       "        vertical-align: top;\n",
       "    }\n",
       "\n",
       "    .dataframe thead th {\n",
       "        text-align: right;\n",
       "    }\n",
       "</style>\n",
       "<table border=\"1\" class=\"dataframe\">\n",
       "  <thead>\n",
       "    <tr style=\"text-align: right;\">\n",
       "      <th></th>\n",
       "      <th>feature</th>\n",
       "      <th>VIF</th>\n",
       "    </tr>\n",
       "  </thead>\n",
       "  <tbody>\n",
       "    <tr>\n",
       "      <th>0</th>\n",
       "      <td>const</td>\n",
       "      <td>291.991582</td>\n",
       "    </tr>\n",
       "    <tr>\n",
       "      <th>1</th>\n",
       "      <td>X2</td>\n",
       "      <td>9.525022</td>\n",
       "    </tr>\n",
       "    <tr>\n",
       "      <th>2</th>\n",
       "      <td>X3</td>\n",
       "      <td>9.525022</td>\n",
       "    </tr>\n",
       "  </tbody>\n",
       "</table>\n",
       "</div>"
      ],
      "text/plain": [
       "  feature         VIF\n",
       "0   const  291.991582\n",
       "1      X2    9.525022\n",
       "2      X3    9.525022"
      ]
     },
     "execution_count": 7,
     "metadata": {},
     "output_type": "execute_result"
    }
   ],
   "source": [
    "vif_data = pd.DataFrame()\n",
    "vif_data[\"feature\"] = X_with_const.columns\n",
    "vif_data[\"VIF\"] = [variance_inflation_factor(X_with_const.values, i) for i in range(X_with_const.shape[1])]\n",
    "vif_data"
   ]
  },
  {
   "cell_type": "markdown",
   "metadata": {},
   "source": [
    "Проверка значимости модели ридж-регрессии"
   ]
  },
  {
   "cell_type": "code",
   "execution_count": 8,
   "metadata": {},
   "outputs": [
    {
     "data": {
      "image/png": "[encoded data removed]",
      "text/plain": [
       "<Figure size 1000x600 with 1 Axes>"
      ]
     },
     "metadata": {},
     "output_type": "display_data"
    }
   ],
   "source": [
    "plt.figure(figsize=(10, 6))\n",
    "for alpha in alphas:\n",
    "    ridge = RidgeCV(alphas=[alpha]).fit(X, y)\n",
    "    plt.plot(alpha, ridge.coef_[0], 'bo', label='X2' if alpha == alphas[0] else \"\")\n",
    "    plt.plot(alpha, ridge.coef_[1], 'ro', label='X3' if alpha == alphas[0] else \"\")\n",
    "\n",
    "plt.xscale('log')\n",
    "plt.xlabel('Параметр регуляризации k')\n",
    "plt.ylabel('Коэффициенты')\n",
    "plt.title('Стабильность коэффициентов при разных значениях k')\n",
    "plt.legend()\n",
    "plt.show()"
   ]
  },
  {
   "cell_type": "markdown",
   "metadata": {},
   "source": [
    "Сравнительный анализ с линейной регрессией"
   ]
  },
  {
   "cell_type": "code",
   "execution_count": 9,
   "metadata": {},
   "outputs": [
    {
     "name": "stdout",
     "output_type": "stream",
     "text": [
      "Коэффициенты линейной регрессии: [0.86141469 0.3348592 ]\n",
      "R^2 для линейной регрессии: 0.9768\n"
     ]
    }
   ],
   "source": [
    "linear_model = LinearRegression().fit(X, y)\n",
    "print(\"Коэффициенты линейной регрессии:\", linear_model.coef_)\n",
    "print(f\"R^2 для линейной регрессии: {linear_model.score(X, y):.4f}\")"
   ]
  },
  {
   "cell_type": "markdown",
   "metadata": {},
   "source": [
    "2. Dataset “Kuiper.xls”"
   ]
  },
  {
   "cell_type": "code",
   "execution_count": 10,
   "metadata": {},
   "outputs": [],
   "source": [
    "import pandas as pd\n",
    "import statsmodels.api as sm\n",
    "from sklearn.preprocessing import StandardScaler\n",
    "import matplotlib.pyplot as plt"
   ]
  },
  {
   "cell_type": "code",
   "execution_count": 13,
   "metadata": {},
   "outputs": [
    {
     "data": {
      "text/html": [
       "<div>\n",
       "<style scoped>\n",
       "    .dataframe tbody tr th:only-of-type {\n",
       "        vertical-align: middle;\n",
       "    }\n",
       "\n",
       "    .dataframe tbody tr th {\n",
       "        vertical-align: top;\n",
       "    }\n",
       "\n",
       "    .dataframe thead th {\n",
       "        text-align: right;\n",
       "    }\n",
       "</style>\n",
       "<table border=\"1\" class=\"dataframe\">\n",
       "  <thead>\n",
       "    <tr style=\"text-align: right;\">\n",
       "      <th></th>\n",
       "      <th>Price</th>\n",
       "      <th>Mileage</th>\n",
       "      <th>Make</th>\n",
       "      <th>Model</th>\n",
       "      <th>Trim</th>\n",
       "      <th>Type</th>\n",
       "      <th>Cylinder</th>\n",
       "      <th>Liter</th>\n",
       "      <th>Doors</th>\n",
       "      <th>Cruise</th>\n",
       "      <th>Sound</th>\n",
       "      <th>Leather</th>\n",
       "    </tr>\n",
       "  </thead>\n",
       "  <tbody>\n",
       "    <tr>\n",
       "      <th>0</th>\n",
       "      <td>17314.103129</td>\n",
       "      <td>8221</td>\n",
       "      <td>Buick</td>\n",
       "      <td>Century</td>\n",
       "      <td>Sedan 4D</td>\n",
       "      <td>Sedan</td>\n",
       "      <td>6</td>\n",
       "      <td>3.1</td>\n",
       "      <td>4</td>\n",
       "      <td>1</td>\n",
       "      <td>1</td>\n",
       "      <td>1</td>\n",
       "    </tr>\n",
       "    <tr>\n",
       "      <th>1</th>\n",
       "      <td>17542.036083</td>\n",
       "      <td>9135</td>\n",
       "      <td>Buick</td>\n",
       "      <td>Century</td>\n",
       "      <td>Sedan 4D</td>\n",
       "      <td>Sedan</td>\n",
       "      <td>6</td>\n",
       "      <td>3.1</td>\n",
       "      <td>4</td>\n",
       "      <td>1</td>\n",
       "      <td>1</td>\n",
       "      <td>0</td>\n",
       "    </tr>\n",
       "    <tr>\n",
       "      <th>2</th>\n",
       "      <td>16218.847862</td>\n",
       "      <td>13196</td>\n",
       "      <td>Buick</td>\n",
       "      <td>Century</td>\n",
       "      <td>Sedan 4D</td>\n",
       "      <td>Sedan</td>\n",
       "      <td>6</td>\n",
       "      <td>3.1</td>\n",
       "      <td>4</td>\n",
       "      <td>1</td>\n",
       "      <td>1</td>\n",
       "      <td>0</td>\n",
       "    </tr>\n",
       "    <tr>\n",
       "      <th>3</th>\n",
       "      <td>16336.913140</td>\n",
       "      <td>16342</td>\n",
       "      <td>Buick</td>\n",
       "      <td>Century</td>\n",
       "      <td>Sedan 4D</td>\n",
       "      <td>Sedan</td>\n",
       "      <td>6</td>\n",
       "      <td>3.1</td>\n",
       "      <td>4</td>\n",
       "      <td>1</td>\n",
       "      <td>0</td>\n",
       "      <td>0</td>\n",
       "    </tr>\n",
       "    <tr>\n",
       "      <th>4</th>\n",
       "      <td>16339.170324</td>\n",
       "      <td>19832</td>\n",
       "      <td>Buick</td>\n",
       "      <td>Century</td>\n",
       "      <td>Sedan 4D</td>\n",
       "      <td>Sedan</td>\n",
       "      <td>6</td>\n",
       "      <td>3.1</td>\n",
       "      <td>4</td>\n",
       "      <td>1</td>\n",
       "      <td>0</td>\n",
       "      <td>1</td>\n",
       "    </tr>\n",
       "    <tr>\n",
       "      <th>...</th>\n",
       "      <td>...</td>\n",
       "      <td>...</td>\n",
       "      <td>...</td>\n",
       "      <td>...</td>\n",
       "      <td>...</td>\n",
       "      <td>...</td>\n",
       "      <td>...</td>\n",
       "      <td>...</td>\n",
       "      <td>...</td>\n",
       "      <td>...</td>\n",
       "      <td>...</td>\n",
       "      <td>...</td>\n",
       "    </tr>\n",
       "    <tr>\n",
       "      <th>799</th>\n",
       "      <td>16507.070267</td>\n",
       "      <td>16229</td>\n",
       "      <td>Saturn</td>\n",
       "      <td>L Series</td>\n",
       "      <td>L300 Sedan 4D</td>\n",
       "      <td>Sedan</td>\n",
       "      <td>6</td>\n",
       "      <td>3.0</td>\n",
       "      <td>4</td>\n",
       "      <td>1</td>\n",
       "      <td>0</td>\n",
       "      <td>0</td>\n",
       "    </tr>\n",
       "    <tr>\n",
       "      <th>800</th>\n",
       "      <td>16175.957604</td>\n",
       "      <td>19095</td>\n",
       "      <td>Saturn</td>\n",
       "      <td>L Series</td>\n",
       "      <td>L300 Sedan 4D</td>\n",
       "      <td>Sedan</td>\n",
       "      <td>6</td>\n",
       "      <td>3.0</td>\n",
       "      <td>4</td>\n",
       "      <td>1</td>\n",
       "      <td>1</td>\n",
       "      <td>0</td>\n",
       "    </tr>\n",
       "    <tr>\n",
       "      <th>801</th>\n",
       "      <td>15731.132897</td>\n",
       "      <td>20484</td>\n",
       "      <td>Saturn</td>\n",
       "      <td>L Series</td>\n",
       "      <td>L300 Sedan 4D</td>\n",
       "      <td>Sedan</td>\n",
       "      <td>6</td>\n",
       "      <td>3.0</td>\n",
       "      <td>4</td>\n",
       "      <td>1</td>\n",
       "      <td>1</td>\n",
       "      <td>0</td>\n",
       "    </tr>\n",
       "    <tr>\n",
       "      <th>802</th>\n",
       "      <td>15118.893228</td>\n",
       "      <td>25979</td>\n",
       "      <td>Saturn</td>\n",
       "      <td>L Series</td>\n",
       "      <td>L300 Sedan 4D</td>\n",
       "      <td>Sedan</td>\n",
       "      <td>6</td>\n",
       "      <td>3.0</td>\n",
       "      <td>4</td>\n",
       "      <td>1</td>\n",
       "      <td>1</td>\n",
       "      <td>0</td>\n",
       "    </tr>\n",
       "    <tr>\n",
       "      <th>803</th>\n",
       "      <td>13585.636802</td>\n",
       "      <td>35662</td>\n",
       "      <td>Saturn</td>\n",
       "      <td>L Series</td>\n",
       "      <td>L300 Sedan 4D</td>\n",
       "      <td>Sedan</td>\n",
       "      <td>6</td>\n",
       "      <td>3.0</td>\n",
       "      <td>4</td>\n",
       "      <td>1</td>\n",
       "      <td>0</td>\n",
       "      <td>0</td>\n",
       "    </tr>\n",
       "  </tbody>\n",
       "</table>\n",
       "<p>804 rows × 12 columns</p>\n",
       "</div>"
      ],
      "text/plain": [
       "            Price  Mileage    Make     Model           Trim   Type  Cylinder  \\\n",
       "0    17314.103129     8221   Buick   Century       Sedan 4D  Sedan         6   \n",
       "1    17542.036083     9135   Buick   Century       Sedan 4D  Sedan         6   \n",
       "2    16218.847862    13196   Buick   Century       Sedan 4D  Sedan         6   \n",
       "3    16336.913140    16342   Buick   Century       Sedan 4D  Sedan         6   \n",
       "4    16339.170324    19832   Buick   Century       Sedan 4D  Sedan         6   \n",
       "..            ...      ...     ...       ...            ...    ...       ...   \n",
       "799  16507.070267    16229  Saturn  L Series  L300 Sedan 4D  Sedan         6   \n",
       "800  16175.957604    19095  Saturn  L Series  L300 Sedan 4D  Sedan         6   \n",
       "801  15731.132897    20484  Saturn  L Series  L300 Sedan 4D  Sedan         6   \n",
       "802  15118.893228    25979  Saturn  L Series  L300 Sedan 4D  Sedan         6   \n",
       "803  13585.636802    35662  Saturn  L Series  L300 Sedan 4D  Sedan         6   \n",
       "\n",
       "     Liter  Doors  Cruise  Sound  Leather  \n",
       "0      3.1      4       1      1        1  \n",
       "1      3.1      4       1      1        0  \n",
       "2      3.1      4       1      1        0  \n",
       "3      3.1      4       1      0        0  \n",
       "4      3.1      4       1      0        1  \n",
       "..     ...    ...     ...    ...      ...  \n",
       "799    3.0      4       1      0        0  \n",
       "800    3.0      4       1      1        0  \n",
       "801    3.0      4       1      1        0  \n",
       "802    3.0      4       1      1        0  \n",
       "803    3.0      4       1      0        0  \n",
       "\n",
       "[804 rows x 12 columns]"
      ]
     },
     "execution_count": 13,
     "metadata": {},
     "output_type": "execute_result"
    }
   ],
   "source": [
    "kuiper_data = pd.read_excel('Datasets/kuiper.xls')\n",
    "X = kuiper_data[['Mileage', 'Liter', 'Cruise', 'Sound', 'Leather']]\n",
    "y = kuiper_data['Price']\n",
    "kuiper_data"
   ]
  },
  {
   "cell_type": "code",
   "execution_count": 15,
   "metadata": {},
   "outputs": [],
   "source": [
    "X.loc[:, ['Cruise', 'Sound', 'Leather']] = X[['Cruise', 'Sound', 'Leather']].astype('category')\n",
    "scaler = StandardScaler()\n",
    "X.loc[:, ['Mileage', 'Liter']] = scaler.fit_transform(X[['Mileage', 'Liter']])\n",
    "X_sm = sm.add_constant(X)"
   ]
  },
  {
   "cell_type": "markdown",
   "metadata": {},
   "source": [
    "Квантильная регрессия для различных значений τ"
   ]
  },
  {
   "cell_type": "code",
   "execution_count": 26,
   "metadata": {},
   "outputs": [
    {
     "name": "stdout",
     "output_type": "stream",
     "text": [
      "Квантильная регрессия для τ = 0.1\n",
      "                         QuantReg Regression Results                          \n",
      "==============================================================================\n",
      "Dep. Variable:                  Price   Pseudo R-squared:               0.3497\n",
      "Model:                       QuantReg   Bandwidth:                       3638.\n",
      "Method:                 Least Squares   Sparsity:                    1.014e+04\n",
      "Date:                Wed, 20 Nov 2024   No. Observations:                  804\n",
      "Time:                        19:05:21   Df Residuals:                      798\n",
      "                                        Df Model:                            5\n",
      "==============================================================================\n",
      "                 coef    std err          t      P>|t|      [0.025      0.975]\n",
      "------------------------------------------------------------------------------\n",
      "const       1.427e+04    333.173     42.820      0.000    1.36e+04    1.49e+04\n",
      "Mileage     -912.6957    108.364     -8.423      0.000   -1125.407    -699.984\n",
      "Liter       3647.3010    102.239     35.674      0.000    3446.612    3847.990\n",
      "Cruise       455.3668    277.819      1.639      0.102     -89.976    1000.709\n",
      "Sound       -306.4600    237.814     -1.289      0.198    -773.275     160.355\n",
      "Leather      880.4606    247.468      3.558      0.000     394.695    1366.226\n",
      "==============================================================================\n",
      "\n",
      "\n",
      "Квантильная регрессия для τ = 0.2\n",
      "                         QuantReg Regression Results                          \n",
      "==============================================================================\n",
      "Dep. Variable:                  Price   Pseudo R-squared:               0.3325\n",
      "Model:                       QuantReg   Bandwidth:                       3554.\n",
      "Method:                 Least Squares   Sparsity:                        8893.\n",
      "Date:                Wed, 20 Nov 2024   No. Observations:                  804\n",
      "Time:                        19:05:21   Df Residuals:                      798\n",
      "                                        Df Model:                            5\n",
      "==============================================================================\n",
      "                 coef    std err          t      P>|t|      [0.025      0.975]\n",
      "------------------------------------------------------------------------------\n",
      "const       1.558e+04    408.106     38.173      0.000    1.48e+04    1.64e+04\n",
      "Mileage     -942.4623    125.017     -7.539      0.000   -1187.864    -697.060\n",
      "Liter       3971.6303    118.819     33.426      0.000    3738.396    4204.864\n",
      "Cruise       542.7131    332.201      1.634      0.103    -109.378    1194.805\n",
      "Sound       -769.2421    272.769     -2.820      0.005   -1304.671    -233.813\n",
      "Leather      509.0616    285.289      1.784      0.075     -50.944    1069.067\n",
      "==============================================================================\n",
      "\n",
      "\n",
      "Квантильная регрессия для τ = 0.5\n",
      "                         QuantReg Regression Results                          \n",
      "==============================================================================\n",
      "Dep. Variable:                  Price   Pseudo R-squared:               0.2688\n",
      "Model:                       QuantReg   Bandwidth:                       3283.\n",
      "Method:                 Least Squares   Sparsity:                        9490.\n",
      "Date:                Wed, 20 Nov 2024   No. Observations:                  804\n",
      "Time:                        19:05:21   Df Residuals:                      798\n",
      "                                        Df Model:                            5\n",
      "==============================================================================\n",
      "                 coef    std err          t      P>|t|      [0.025      0.975]\n",
      "------------------------------------------------------------------------------\n",
      "const       1.755e+04    520.681     33.701      0.000    1.65e+04    1.86e+04\n",
      "Mileage    -1006.6506    167.530     -6.009      0.000   -1335.501    -677.800\n",
      "Liter       4843.3543    182.466     26.544      0.000    4485.185    5201.524\n",
      "Cruise      1360.7803    422.254      3.223      0.001     531.921    2189.640\n",
      "Sound      -1760.2802    365.349     -4.818      0.000   -2477.439   -1043.122\n",
      "Leather     1055.5984    383.430      2.753      0.006     302.947    1808.250\n",
      "==============================================================================\n",
      "\n",
      "\n",
      "Квантильная регрессия для τ = 0.9\n",
      "                         QuantReg Regression Results                          \n",
      "==============================================================================\n",
      "Dep. Variable:                  Price   Pseudo R-squared:               0.3642\n",
      "Model:                       QuantReg   Bandwidth:                       4335.\n",
      "Method:                 Least Squares   Sparsity:                    2.173e+04\n",
      "Date:                Wed, 20 Nov 2024   No. Observations:                  804\n",
      "Time:                        19:05:21   Df Residuals:                      798\n",
      "                                        Df Model:                            5\n",
      "==============================================================================\n",
      "                 coef    std err          t      P>|t|      [0.025      0.975]\n",
      "------------------------------------------------------------------------------\n",
      "const       1.948e+04    789.250     24.685      0.000    1.79e+04     2.1e+04\n",
      "Mileage    -1661.0517    273.173     -6.081      0.000   -2197.274   -1124.830\n",
      "Liter       3687.0790    296.691     12.427      0.000    3104.693    4269.465\n",
      "Cruise      1.551e+04    586.441     26.448      0.000    1.44e+04    1.67e+04\n",
      "Sound      -2456.4398    519.996     -4.724      0.000   -3477.161   -1435.719\n",
      "Leather     1275.7311    534.286      2.388      0.017     226.958    2324.504\n",
      "==============================================================================\n",
      "\n",
      "\n"
     ]
    }
   ],
   "source": [
    "coefficients_quantile = {var: [] for var in X_sm.columns}\n",
    "taus = [0.1, 0.2, 0.5, 0.9] \n",
    "for tau in taus:\n",
    "    quantile_model = sm.QuantReg(y, X_sm).fit(q=tau)\n",
    "    print(f'Квантильная регрессия для τ = {tau}')\n",
    "    print(quantile_model.summary())\n",
    "    print('\\n')\n"
   ]
  },
  {
   "cell_type": "code",
   "execution_count": 30,
   "metadata": {},
   "outputs": [
    {
     "data": {
      "image/png": "[encoded data removed]",
      "text/plain": [
       "<Figure size 1000x600 with 1 Axes>"
      ]
     },
     "metadata": {},
     "output_type": "display_data"
    }
   ],
   "source": [
    "coefficients = {var: [] for var in X_sm.columns}\n",
    "\n",
    "# Вычисление коэффициентов для каждого квантиля\n",
    "for tau in taus:\n",
    "    quantile_model = sm.QuantReg(y, X_sm).fit(q=tau)\n",
    "    for var, coef in zip(X_sm.columns, quantile_model.params):\n",
    "        coefficients[var].append(coef)\n",
    "\n",
    "# Построение графиков изменения коэффициентов\n",
    "plt.figure(figsize=(10, 6))\n",
    "\n",
    "for var in coefficients:\n",
    "    if var != 'const':\n",
    "        plt.plot(taus, coefficients[var], label=var)\n",
    "\n",
    "plt.xlabel('τ (Квантиль)')\n",
    "plt.ylabel('Коэффициенты регрессии')\n",
    "plt.title('Изменение коэффициентов регрессии в зависимости от квантиля')\n",
    "plt.legend()\n",
    "plt.grid(True)\n",
    "plt.show()\n"
   ]
  },
  {
   "cell_type": "markdown",
   "metadata": {},
   "source": [
    "Линейная регрессия для сравнения"
   ]
  },
  {
   "cell_type": "code",
   "execution_count": 31,
   "metadata": {},
   "outputs": [
    {
     "name": "stdout",
     "output_type": "stream",
     "text": [
      "Линейная регрессия\n",
      "                            OLS Regression Results                            \n",
      "==============================================================================\n",
      "Dep. Variable:                  Price   R-squared:                       0.417\n",
      "Model:                            OLS   Adj. R-squared:                  0.413\n",
      "Method:                 Least Squares   F-statistic:                     113.9\n",
      "Date:                Wed, 20 Nov 2024   Prob (F-statistic):           7.24e-91\n",
      "Time:                        19:09:07   Log-Likelihood:                -8319.6\n",
      "No. Observations:                 804   AIC:                         1.665e+04\n",
      "Df Residuals:                     798   BIC:                         1.668e+04\n",
      "Df Model:                           5                                         \n",
      "Covariance Type:            nonrobust                                         \n",
      "==============================================================================\n",
      "                 coef    std err          t      P>|t|      [0.025      0.975]\n",
      "------------------------------------------------------------------------------\n",
      "const        1.56e+04    831.178     18.764      0.000     1.4e+04    1.72e+04\n",
      "Mileage    -1428.6024    267.432     -5.342      0.000   -1953.556    -903.649\n",
      "Liter       4269.5768    291.275     14.658      0.000    3697.821    4841.333\n",
      "Cruise      6250.6299    674.055      9.273      0.000    4927.499    7573.761\n",
      "Sound      -2126.4267    583.217     -3.646      0.000   -3271.247    -981.607\n",
      "Leather     3435.8137    612.080      5.613      0.000    2234.336    4637.292\n",
      "==============================================================================\n",
      "Omnibus:                      244.276   Durbin-Watson:                   0.302\n",
      "Prob(Omnibus):                  0.000   Jarque-Bera (JB):              743.285\n",
      "Skew:                           1.488   Prob(JB):                    3.96e-162\n",
      "Kurtosis:                       6.651   Cond. No.                         6.43\n",
      "==============================================================================\n",
      "\n",
      "Notes:\n",
      "[1] Standard Errors assume that the covariance matrix of the errors is correctly specified.\n"
     ]
    }
   ],
   "source": [
    "print('Линейная регрессия')\n",
    "ols_model = sm.OLS(y, X_sm).fit()\n",
    "print(ols_model.summary())"
   ]
  },
  {
   "cell_type": "markdown",
   "metadata": {},
   "source": [
    "медианнанная регрессии"
   ]
  },
  {
   "cell_type": "code",
   "execution_count": 34,
   "metadata": {},
   "outputs": [
    {
     "name": "stdout",
     "output_type": "stream",
     "text": [
      "Медианная регрессия\n",
      "                         QuantReg Regression Results                          \n",
      "==============================================================================\n",
      "Dep. Variable:                  Price   Pseudo R-squared:               0.2688\n",
      "Model:                       QuantReg   Bandwidth:                       3283.\n",
      "Method:                 Least Squares   Sparsity:                        9490.\n",
      "Date:                Wed, 20 Nov 2024   No. Observations:                  804\n",
      "Time:                        19:20:07   Df Residuals:                      798\n",
      "                                        Df Model:                            5\n",
      "==============================================================================\n",
      "                 coef    std err          t      P>|t|      [0.025      0.975]\n",
      "------------------------------------------------------------------------------\n",
      "const       1.755e+04    520.681     33.701      0.000    1.65e+04    1.86e+04\n",
      "Mileage    -1006.6506    167.530     -6.009      0.000   -1335.501    -677.800\n",
      "Liter       4843.3543    182.466     26.544      0.000    4485.185    5201.524\n",
      "Cruise      1360.7803    422.254      3.223      0.001     531.921    2189.640\n",
      "Sound      -1760.2802    365.349     -4.818      0.000   -2477.439   -1043.122\n",
      "Leather     1055.5984    383.430      2.753      0.006     302.947    1808.250\n",
      "==============================================================================\n"
     ]
    }
   ],
   "source": [
    "median_model = sm.QuantReg(y, X_sm).fit(q=0.5)\n",
    "print(\"Медианная регрессия\")\n",
    "print(median_model.summary())\n"
   ]
  },
  {
   "cell_type": "markdown",
   "metadata": {},
   "source": [
    "3. Dataset “cigarettes.txt”"
   ]
  },
  {
   "cell_type": "code",
   "execution_count": null,
   "metadata": {},
   "outputs": [],
   "source": [
    "import pandas as pd\n",
    "import statsmodels.api as sm"
   ]
  },
  {
   "cell_type": "code",
   "execution_count": 38,
   "metadata": {},
   "outputs": [],
   "source": [
    "cigarettes_data = pd.read_csv('Datasets/cigarettes.dat.txt', delimiter='\\\\s+', header=None)\n",
    "cigarettes_data.columns = ['name', 'carbon_monoxide', 'tar', 'nicotine', 'weight']\n",
    "X_base = cigarettes_data[['tar', 'nicotine', 'weight']]\n",
    "y = cigarettes_data['carbon_monoxide']\n"
   ]
  },
  {
   "cell_type": "markdown",
   "metadata": {},
   "source": [
    "Квадратичная регрессия"
   ]
  },
  {
   "cell_type": "code",
   "execution_count": 40,
   "metadata": {},
   "outputs": [
    {
     "name": "stdout",
     "output_type": "stream",
     "text": [
      "                            OLS Regression Results                            \n",
      "==============================================================================\n",
      "Dep. Variable:        carbon_monoxide   R-squared:                       0.977\n",
      "Model:                            OLS   Adj. R-squared:                  0.972\n",
      "Method:                 Least Squares   F-statistic:                     211.2\n",
      "Date:                Wed, 20 Nov 2024   Prob (F-statistic):           4.71e-16\n",
      "Time:                        19:32:12   Log-Likelihood:                -31.239\n",
      "No. Observations:                  25   AIC:                             72.48\n",
      "Df Residuals:                      20   BIC:                             78.57\n",
      "Df Model:                           4                                         \n",
      "Covariance Type:            nonrobust                                         \n",
      "==============================================================================\n",
      "                 coef    std err          t      P>|t|      [0.025      0.975]\n",
      "------------------------------------------------------------------------------\n",
      "const         -1.0459      2.385     -0.438      0.666      -6.022       3.930\n",
      "tar            5.5902      3.052      1.831      0.082      -0.777      11.957\n",
      "nicotine       0.0226      2.538      0.009      0.993      -5.271       5.317\n",
      "weight         0.5595      0.127      4.401      0.000       0.294       0.825\n",
      "tar_sq         1.4988      0.892      1.680      0.109      -0.362       3.360\n",
      "==============================================================================\n",
      "Omnibus:                        0.978   Durbin-Watson:                   2.027\n",
      "Prob(Omnibus):                  0.613   Jarque-Bera (JB):                0.551\n",
      "Skew:                           0.362   Prob(JB):                        0.759\n",
      "Kurtosis:                       2.935   Cond. No.                         247.\n",
      "==============================================================================\n",
      "\n",
      "Notes:\n",
      "[1] Standard Errors assume that the covariance matrix of the errors is correctly specified.\n",
      "AIC: 72.47883857551882\n",
      "\n",
      "\n"
     ]
    }
   ],
   "source": [
    "X_quad = X_base.copy()\n",
    "X_quad['tar_sq'] = X_quad['tar']**2\n",
    "quadratic_model = sm.OLS(y, sm.add_constant(X_quad)).fit()\n",
    "print(quadratic_model.summary())\n",
    "print(\"AIC:\", quadratic_model.aic, end='\\n\\n\\n')"
   ]
  },
  {
   "cell_type": "markdown",
   "metadata": {},
   "source": [
    "Кубическая регрессия"
   ]
  },
  {
   "cell_type": "code",
   "execution_count": 41,
   "metadata": {},
   "outputs": [
    {
     "name": "stdout",
     "output_type": "stream",
     "text": [
      "                            OLS Regression Results                            \n",
      "==============================================================================\n",
      "Dep. Variable:        carbon_monoxide   R-squared:                       0.977\n",
      "Model:                            OLS   Adj. R-squared:                  0.971\n",
      "Method:                 Least Squares   F-statistic:                     160.5\n",
      "Date:                Wed, 20 Nov 2024   Prob (F-statistic):           7.38e-15\n",
      "Time:                        19:33:30   Log-Likelihood:                -31.239\n",
      "No. Observations:                  25   AIC:                             74.48\n",
      "Df Residuals:                      19   BIC:                             81.79\n",
      "Df Model:                           5                                         \n",
      "Covariance Type:            nonrobust                                         \n",
      "==============================================================================\n",
      "                 coef    std err          t      P>|t|      [0.025      0.975]\n",
      "------------------------------------------------------------------------------\n",
      "const         -1.0457      2.447     -0.427      0.674      -6.168       4.077\n",
      "tar            5.6785      6.500      0.874      0.393      -7.926      19.283\n",
      "nicotine      -0.0004      2.997     -0.000      1.000      -6.273       6.272\n",
      "weight         0.5598      0.132      4.253      0.000       0.284       0.835\n",
      "tar_sq         1.3954      6.731      0.207      0.838     -12.692      15.483\n",
      "tar_cu         0.0323      2.081      0.016      0.988      -4.324       4.389\n",
      "==============================================================================\n",
      "Omnibus:                        0.972   Durbin-Watson:                   2.031\n",
      "Prob(Omnibus):                  0.615   Jarque-Bera (JB):                0.557\n",
      "Skew:                           0.364   Prob(JB):                        0.757\n",
      "Kurtosis:                       2.926   Cond. No.                         667.\n",
      "==============================================================================\n",
      "\n",
      "Notes:\n",
      "[1] Standard Errors assume that the covariance matrix of the errors is correctly specified.\n",
      "AIC: 74.47852227114706\n",
      "\n",
      "\n"
     ]
    }
   ],
   "source": [
    "X_cubic = X_quad.copy()\n",
    "X_cubic['tar_cu'] = X_cubic['tar']**3\n",
    "cubic_model = sm.OLS(y, sm.add_constant(X_cubic)).fit()\n",
    "print(cubic_model.summary())\n",
    "print(\"AIC:\", cubic_model.aic, end='\\n\\n\\n')\n"
   ]
  },
  {
   "cell_type": "markdown",
   "metadata": {},
   "source": [
    "Линейная регрессия"
   ]
  },
  {
   "cell_type": "code",
   "execution_count": 42,
   "metadata": {},
   "outputs": [
    {
     "name": "stdout",
     "output_type": "stream",
     "text": [
      "                            OLS Regression Results                            \n",
      "==============================================================================\n",
      "Dep. Variable:        carbon_monoxide   R-squared:                       0.974\n",
      "Model:                            OLS   Adj. R-squared:                  0.970\n",
      "Method:                 Least Squares   F-statistic:                     258.3\n",
      "Date:                Wed, 20 Nov 2024   Prob (F-statistic):           9.95e-17\n",
      "Time:                        19:34:16   Log-Likelihood:                -32.889\n",
      "No. Observations:                  25   AIC:                             73.78\n",
      "Df Residuals:                      21   BIC:                             78.65\n",
      "Df Model:                           3                                         \n",
      "Covariance Type:            nonrobust                                         \n",
      "==============================================================================\n",
      "                 coef    std err          t      P>|t|      [0.025      0.975]\n",
      "------------------------------------------------------------------------------\n",
      "const         -2.3696      2.347     -1.010      0.324      -7.251       2.512\n",
      "tar           10.0803      1.537      6.560      0.000       6.885      13.276\n",
      "nicotine       0.1704      2.644      0.064      0.949      -5.328       5.669\n",
      "weight         0.4459      0.112      3.974      0.001       0.213       0.679\n",
      "==============================================================================\n",
      "Omnibus:                        0.340   Durbin-Watson:                   2.214\n",
      "Prob(Omnibus):                  0.844   Jarque-Bera (JB):                0.494\n",
      "Skew:                           0.201   Prob(JB):                        0.781\n",
      "Kurtosis:                       2.441   Cond. No.                         241.\n",
      "==============================================================================\n",
      "\n",
      "Notes:\n",
      "[1] Standard Errors assume that the covariance matrix of the errors is correctly specified.\n",
      "AIC: 73.77895776832698\n"
     ]
    }
   ],
   "source": [
    "linear_model = sm.OLS(y, sm.add_constant(X_base)).fit()\n",
    "print(linear_model.summary())\n",
    "print(\"AIC:\", linear_model.aic)\n"
   ]
  }
 ],
 "metadata": {
  "kernelspec": {
   "display_name": "Python 3",
   "language": "python",
   "name": "python3"
  },
  "language_info": {
   "codemirror_mode": {
    "name": "ipython",
    "version": 3
   },
   "file_extension": ".py",
   "mimetype": "text/x-python",
   "name": "python",
   "nbconvert_exporter": "python",
   "pygments_lexer": "ipython3",
   "version": "3.11.3"
  }
 },
 "nbformat": 4,
 "nbformat_minor": 2
}
