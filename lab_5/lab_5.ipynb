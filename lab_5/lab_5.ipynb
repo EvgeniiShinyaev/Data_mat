{
 "cells": [
  {
   "cell_type": "markdown",
   "metadata": {},
   "source": [
    "Задание по Теме 4 \n",
    "\n",
    "Dataset “Doctor.xlsx” (переменные Y=исход беременности (зависимая переменная), x1, x2, x3, x4, x5 (независимые переменные, факторы)=показатели исследуемой женщины): \n",
    "\n",
    "Построить описательную статистику с помощью функции summary. \n",
    "\n",
    "При необходимости создать категориальную переменную (функция factor). \n",
    "\n",
    "Построить базовую модель логистической регрессии с максимально возможным количеством предикторов с использованием функции glm.  \n",
    "\n",
    "Записать уравнение бинарной регрессии, используя оценки коэффициентов. \n",
    "\n",
    "Протестировать значимость коэффициентов регрессии в отдельности.  \n",
    "\n",
    "Проверить значимость регрессии в целом по критерию Вальда и максимального правдоподобия. \n",
    "\n",
    "Построить доверительные интервалы для коэффициентов регрессии (функции  confint и confint.default). \n",
    "\n",
    "Провести сравнительный анализ логит и пробит моделей. \n",
    "\n",
    "Построить таблицу сопряженности с пороговой вероятностью 0.5 (функция  confusionMatrix). \n",
    "\n",
    "Посчитать специфичность и чувствительность модели (функции  sensitivity и specificity). \n",
    "\n",
    "Найти оптимальное пороговое значение вероятности предсказания. Построить таблицу сопряженности для этой вероятности, посчитать специфичность и чувствительность модели (функция  optimalCutoff). \n",
    "\n",
    "Если выборка большого объема, то можно предварительно разбить выборку на две части: тренировочная и тестовая выборки (функция  sample_frac). \n",
    "\n",
    "Построить ROC кривую, интерпретировать результаты (функция  plotROC).  \n",
    "\n",
    "Попробовать улучшить логит или пробит модель с использованием коэффициента AIC (функция  stepAIC). \n",
    "\n",
    " \n",
    "\n",
    " "
   ]
  },
  {
   "cell_type": "code",
   "execution_count": 3,
   "metadata": {},
   "outputs": [],
   "source": [
    "import pandas as pd\n",
    "import numpy as np\n",
    "import statsmodels.api as sm\n",
    "from sklearn.metrics import confusion_matrix, roc_curve, roc_auc_score, classification_report\n",
    "from sklearn.model_selection import train_test_split\n",
    "import matplotlib.pyplot as plt\n",
    "from scipy import stats"
   ]
  },
  {
   "cell_type": "code",
   "execution_count": 6,
   "metadata": {},
   "outputs": [
    {
     "data": {
      "text/html": [
       "<div>\n",
       "<style scoped>\n",
       "    .dataframe tbody tr th:only-of-type {\n",
       "        vertical-align: middle;\n",
       "    }\n",
       "\n",
       "    .dataframe tbody tr th {\n",
       "        vertical-align: top;\n",
       "    }\n",
       "\n",
       "    .dataframe thead th {\n",
       "        text-align: right;\n",
       "    }\n",
       "</style>\n",
       "<table border=\"1\" class=\"dataframe\">\n",
       "  <thead>\n",
       "    <tr style=\"text-align: right;\">\n",
       "      <th></th>\n",
       "      <th>y</th>\n",
       "      <th>x1</th>\n",
       "      <th>x2</th>\n",
       "      <th>x3</th>\n",
       "      <th>x4</th>\n",
       "      <th>x5</th>\n",
       "    </tr>\n",
       "  </thead>\n",
       "  <tbody>\n",
       "    <tr>\n",
       "      <th>0</th>\n",
       "      <td>0</td>\n",
       "      <td>14</td>\n",
       "      <td>4.30</td>\n",
       "      <td>1.00</td>\n",
       "      <td>2</td>\n",
       "      <td>3.72</td>\n",
       "    </tr>\n",
       "    <tr>\n",
       "      <th>1</th>\n",
       "      <td>0</td>\n",
       "      <td>12</td>\n",
       "      <td>11.54</td>\n",
       "      <td>8.49</td>\n",
       "      <td>3</td>\n",
       "      <td>40.28</td>\n",
       "    </tr>\n",
       "    <tr>\n",
       "      <th>2</th>\n",
       "      <td>0</td>\n",
       "      <td>14</td>\n",
       "      <td>5.84</td>\n",
       "      <td>2.47</td>\n",
       "      <td>3</td>\n",
       "      <td>56.00</td>\n",
       "    </tr>\n",
       "    <tr>\n",
       "      <th>3</th>\n",
       "      <td>1</td>\n",
       "      <td>11</td>\n",
       "      <td>14.70</td>\n",
       "      <td>6.60</td>\n",
       "      <td>1</td>\n",
       "      <td>57.41</td>\n",
       "    </tr>\n",
       "    <tr>\n",
       "      <th>4</th>\n",
       "      <td>0</td>\n",
       "      <td>21</td>\n",
       "      <td>5.10</td>\n",
       "      <td>3.48</td>\n",
       "      <td>1</td>\n",
       "      <td>83.00</td>\n",
       "    </tr>\n",
       "  </tbody>\n",
       "</table>\n",
       "</div>"
      ],
      "text/plain": [
       "   y  x1     x2    x3  x4     x5\n",
       "0  0  14   4.30  1.00   2   3.72\n",
       "1  0  12  11.54  8.49   3  40.28\n",
       "2  0  14   5.84  2.47   3  56.00\n",
       "3  1  11  14.70  6.60   1  57.41\n",
       "4  0  21   5.10  3.48   1  83.00"
      ]
     },
     "execution_count": 6,
     "metadata": {},
     "output_type": "execute_result"
    }
   ],
   "source": [
    "file_path = 'D:\\python\\matstat\\me\\lab_5\\Doctor.xlsx'\n",
    "data = pd.read_excel(file_path)\n",
    "data.head()"
   ]
  },
  {
   "cell_type": "markdown",
   "metadata": {},
   "source": [
    "Описательная статистика"
   ]
  },
  {
   "cell_type": "code",
   "execution_count": 7,
   "metadata": {},
   "outputs": [
    {
     "data": {
      "text/html": [
       "<div>\n",
       "<style scoped>\n",
       "    .dataframe tbody tr th:only-of-type {\n",
       "        vertical-align: middle;\n",
       "    }\n",
       "\n",
       "    .dataframe tbody tr th {\n",
       "        vertical-align: top;\n",
       "    }\n",
       "\n",
       "    .dataframe thead th {\n",
       "        text-align: right;\n",
       "    }\n",
       "</style>\n",
       "<table border=\"1\" class=\"dataframe\">\n",
       "  <thead>\n",
       "    <tr style=\"text-align: right;\">\n",
       "      <th></th>\n",
       "      <th>y</th>\n",
       "      <th>x1</th>\n",
       "      <th>x2</th>\n",
       "      <th>x3</th>\n",
       "      <th>x4</th>\n",
       "      <th>x5</th>\n",
       "    </tr>\n",
       "  </thead>\n",
       "  <tbody>\n",
       "    <tr>\n",
       "      <th>count</th>\n",
       "      <td>58.000000</td>\n",
       "      <td>58.000000</td>\n",
       "      <td>58.000000</td>\n",
       "      <td>58.000000</td>\n",
       "      <td>58.000000</td>\n",
       "      <td>58.000000</td>\n",
       "    </tr>\n",
       "    <tr>\n",
       "      <th>mean</th>\n",
       "      <td>0.637931</td>\n",
       "      <td>16.327586</td>\n",
       "      <td>10.327931</td>\n",
       "      <td>7.141379</td>\n",
       "      <td>2.344828</td>\n",
       "      <td>45.135000</td>\n",
       "    </tr>\n",
       "    <tr>\n",
       "      <th>std</th>\n",
       "      <td>0.484796</td>\n",
       "      <td>3.213939</td>\n",
       "      <td>3.957742</td>\n",
       "      <td>3.749343</td>\n",
       "      <td>0.928151</td>\n",
       "      <td>53.956171</td>\n",
       "    </tr>\n",
       "    <tr>\n",
       "      <th>min</th>\n",
       "      <td>0.000000</td>\n",
       "      <td>11.000000</td>\n",
       "      <td>3.300000</td>\n",
       "      <td>1.000000</td>\n",
       "      <td>1.000000</td>\n",
       "      <td>0.800000</td>\n",
       "    </tr>\n",
       "    <tr>\n",
       "      <th>25%</th>\n",
       "      <td>0.000000</td>\n",
       "      <td>14.000000</td>\n",
       "      <td>6.375000</td>\n",
       "      <td>3.985000</td>\n",
       "      <td>1.000000</td>\n",
       "      <td>22.115000</td>\n",
       "    </tr>\n",
       "    <tr>\n",
       "      <th>50%</th>\n",
       "      <td>1.000000</td>\n",
       "      <td>16.000000</td>\n",
       "      <td>10.450000</td>\n",
       "      <td>6.835000</td>\n",
       "      <td>3.000000</td>\n",
       "      <td>38.935000</td>\n",
       "    </tr>\n",
       "    <tr>\n",
       "      <th>75%</th>\n",
       "      <td>1.000000</td>\n",
       "      <td>19.000000</td>\n",
       "      <td>13.400000</td>\n",
       "      <td>9.975000</td>\n",
       "      <td>3.000000</td>\n",
       "      <td>53.125000</td>\n",
       "    </tr>\n",
       "    <tr>\n",
       "      <th>max</th>\n",
       "      <td>1.000000</td>\n",
       "      <td>27.000000</td>\n",
       "      <td>19.000000</td>\n",
       "      <td>16.000000</td>\n",
       "      <td>3.000000</td>\n",
       "      <td>399.800000</td>\n",
       "    </tr>\n",
       "  </tbody>\n",
       "</table>\n",
       "</div>"
      ],
      "text/plain": [
       "               y         x1         x2         x3         x4          x5\n",
       "count  58.000000  58.000000  58.000000  58.000000  58.000000   58.000000\n",
       "mean    0.637931  16.327586  10.327931   7.141379   2.344828   45.135000\n",
       "std     0.484796   3.213939   3.957742   3.749343   0.928151   53.956171\n",
       "min     0.000000  11.000000   3.300000   1.000000   1.000000    0.800000\n",
       "25%     0.000000  14.000000   6.375000   3.985000   1.000000   22.115000\n",
       "50%     1.000000  16.000000  10.450000   6.835000   3.000000   38.935000\n",
       "75%     1.000000  19.000000  13.400000   9.975000   3.000000   53.125000\n",
       "max     1.000000  27.000000  19.000000  16.000000   3.000000  399.800000"
      ]
     },
     "execution_count": 7,
     "metadata": {},
     "output_type": "execute_result"
    }
   ],
   "source": [
    "descriptive_stats = data.describe()\n",
    "descriptive_stats"
   ]
  },
  {
   "cell_type": "code",
   "execution_count": 9,
   "metadata": {},
   "outputs": [
    {
     "data": {
      "text/html": [
       "<div>\n",
       "<style scoped>\n",
       "    .dataframe tbody tr th:only-of-type {\n",
       "        vertical-align: middle;\n",
       "    }\n",
       "\n",
       "    .dataframe tbody tr th {\n",
       "        vertical-align: top;\n",
       "    }\n",
       "\n",
       "    .dataframe thead th {\n",
       "        text-align: right;\n",
       "    }\n",
       "</style>\n",
       "<table border=\"1\" class=\"dataframe\">\n",
       "  <thead>\n",
       "    <tr style=\"text-align: right;\">\n",
       "      <th></th>\n",
       "      <th>y</th>\n",
       "      <th>x1</th>\n",
       "      <th>x2</th>\n",
       "      <th>x3</th>\n",
       "      <th>x4</th>\n",
       "      <th>x5</th>\n",
       "    </tr>\n",
       "  </thead>\n",
       "  <tbody>\n",
       "    <tr>\n",
       "      <th>0</th>\n",
       "      <td>0</td>\n",
       "      <td>14</td>\n",
       "      <td>4.30</td>\n",
       "      <td>1.00</td>\n",
       "      <td>2</td>\n",
       "      <td>3.72</td>\n",
       "    </tr>\n",
       "    <tr>\n",
       "      <th>1</th>\n",
       "      <td>0</td>\n",
       "      <td>12</td>\n",
       "      <td>11.54</td>\n",
       "      <td>8.49</td>\n",
       "      <td>3</td>\n",
       "      <td>40.28</td>\n",
       "    </tr>\n",
       "    <tr>\n",
       "      <th>2</th>\n",
       "      <td>0</td>\n",
       "      <td>14</td>\n",
       "      <td>5.84</td>\n",
       "      <td>2.47</td>\n",
       "      <td>3</td>\n",
       "      <td>56.00</td>\n",
       "    </tr>\n",
       "    <tr>\n",
       "      <th>3</th>\n",
       "      <td>1</td>\n",
       "      <td>11</td>\n",
       "      <td>14.70</td>\n",
       "      <td>6.60</td>\n",
       "      <td>1</td>\n",
       "      <td>57.41</td>\n",
       "    </tr>\n",
       "    <tr>\n",
       "      <th>4</th>\n",
       "      <td>0</td>\n",
       "      <td>21</td>\n",
       "      <td>5.10</td>\n",
       "      <td>3.48</td>\n",
       "      <td>1</td>\n",
       "      <td>83.00</td>\n",
       "    </tr>\n",
       "  </tbody>\n",
       "</table>\n",
       "</div>"
      ],
      "text/plain": [
       "   y  x1     x2    x3  x4     x5\n",
       "0  0  14   4.30  1.00   2   3.72\n",
       "1  0  12  11.54  8.49   3  40.28\n",
       "2  0  14   5.84  2.47   3  56.00\n",
       "3  1  11  14.70  6.60   1  57.41\n",
       "4  0  21   5.10  3.48   1  83.00"
      ]
     },
     "execution_count": 9,
     "metadata": {},
     "output_type": "execute_result"
    }
   ],
   "source": [
    "data['y'] = data['y'].astype('category')\n",
    "data.head()"
   ]
  },
  {
   "cell_type": "code",
   "execution_count": null,
   "metadata": {},
   "outputs": [],
   "source": [
    "X = data[['x1', 'x2', 'x3', 'x4', 'x5']]\n",
    "X = sm.add_constant(X)\n",
    "Y = data['y'].astype('int')"
   ]
  },
  {
   "cell_type": "markdown",
   "metadata": {},
   "source": [
    "Базовая модель логистической регрессии"
   ]
  },
  {
   "cell_type": "code",
   "execution_count": 11,
   "metadata": {},
   "outputs": [
    {
     "name": "stdout",
     "output_type": "stream",
     "text": [
      "Optimization terminated successfully.\n",
      "         Current function value: 0.341788\n",
      "         Iterations 8\n"
     ]
    },
    {
     "data": {
      "text/html": [
       "<table class=\"simpletable\">\n",
       "<caption>Logit Regression Results</caption>\n",
       "<tr>\n",
       "  <th>Dep. Variable:</th>           <td>y</td>        <th>  No. Observations:  </th>  <td>    58</td>  \n",
       "</tr>\n",
       "<tr>\n",
       "  <th>Model:</th>                 <td>Logit</td>      <th>  Df Residuals:      </th>  <td>    52</td>  \n",
       "</tr>\n",
       "<tr>\n",
       "  <th>Method:</th>                 <td>MLE</td>       <th>  Df Model:          </th>  <td>     5</td>  \n",
       "</tr>\n",
       "<tr>\n",
       "  <th>Date:</th>            <td>Wed, 20 Nov 2024</td> <th>  Pseudo R-squ.:     </th>  <td>0.4779</td>  \n",
       "</tr>\n",
       "<tr>\n",
       "  <th>Time:</th>                <td>14:46:11</td>     <th>  Log-Likelihood:    </th> <td> -19.824</td> \n",
       "</tr>\n",
       "<tr>\n",
       "  <th>converged:</th>             <td>True</td>       <th>  LL-Null:           </th> <td> -37.967</td> \n",
       "</tr>\n",
       "<tr>\n",
       "  <th>Covariance Type:</th>     <td>nonrobust</td>    <th>  LLR p-value:       </th> <td>8.325e-07</td>\n",
       "</tr>\n",
       "</table>\n",
       "<table class=\"simpletable\">\n",
       "<tr>\n",
       "    <td></td>       <th>coef</th>     <th>std err</th>      <th>z</th>      <th>P>|z|</th>  <th>[0.025</th>    <th>0.975]</th>  \n",
       "</tr>\n",
       "<tr>\n",
       "  <th>const</th> <td>  -10.9423</td> <td>    3.871</td> <td>   -2.827</td> <td> 0.005</td> <td>  -18.529</td> <td>   -3.356</td>\n",
       "</tr>\n",
       "<tr>\n",
       "  <th>x1</th>    <td>    0.4555</td> <td>    0.180</td> <td>    2.529</td> <td> 0.011</td> <td>    0.102</td> <td>    0.809</td>\n",
       "</tr>\n",
       "<tr>\n",
       "  <th>x2</th>    <td>    0.8085</td> <td>    0.436</td> <td>    1.855</td> <td> 0.064</td> <td>   -0.046</td> <td>    1.663</td>\n",
       "</tr>\n",
       "<tr>\n",
       "  <th>x3</th>    <td>   -0.3559</td> <td>    0.418</td> <td>   -0.852</td> <td> 0.394</td> <td>   -1.175</td> <td>    0.463</td>\n",
       "</tr>\n",
       "<tr>\n",
       "  <th>x4</th>    <td>    0.1262</td> <td>    0.422</td> <td>    0.299</td> <td> 0.765</td> <td>   -0.701</td> <td>    0.954</td>\n",
       "</tr>\n",
       "<tr>\n",
       "  <th>x5</th>    <td>   -0.0319</td> <td>    0.020</td> <td>   -1.605</td> <td> 0.109</td> <td>   -0.071</td> <td>    0.007</td>\n",
       "</tr>\n",
       "</table>"
      ],
      "text/latex": [
       "\\begin{center}\n",
       "\\begin{tabular}{lclc}\n",
       "\\toprule\n",
       "\\textbf{Dep. Variable:}   &        y         & \\textbf{  No. Observations:  } &       58    \\\\\n",
       "\\textbf{Model:}           &      Logit       & \\textbf{  Df Residuals:      } &       52    \\\\\n",
       "\\textbf{Method:}          &       MLE        & \\textbf{  Df Model:          } &        5    \\\\\n",
       "\\textbf{Date:}            & Wed, 20 Nov 2024 & \\textbf{  Pseudo R-squ.:     } &   0.4779    \\\\\n",
       "\\textbf{Time:}            &     14:46:11     & \\textbf{  Log-Likelihood:    } &   -19.824   \\\\\n",
       "\\textbf{converged:}       &       True       & \\textbf{  LL-Null:           } &   -37.967   \\\\\n",
       "\\textbf{Covariance Type:} &    nonrobust     & \\textbf{  LLR p-value:       } & 8.325e-07   \\\\\n",
       "\\bottomrule\n",
       "\\end{tabular}\n",
       "\\begin{tabular}{lcccccc}\n",
       "               & \\textbf{coef} & \\textbf{std err} & \\textbf{z} & \\textbf{P$> |$z$|$} & \\textbf{[0.025} & \\textbf{0.975]}  \\\\\n",
       "\\midrule\n",
       "\\textbf{const} &     -10.9423  &        3.871     &    -2.827  &         0.005        &      -18.529    &       -3.356     \\\\\n",
       "\\textbf{x1}    &       0.4555  &        0.180     &     2.529  &         0.011        &        0.102    &        0.809     \\\\\n",
       "\\textbf{x2}    &       0.8085  &        0.436     &     1.855  &         0.064        &       -0.046    &        1.663     \\\\\n",
       "\\textbf{x3}    &      -0.3559  &        0.418     &    -0.852  &         0.394        &       -1.175    &        0.463     \\\\\n",
       "\\textbf{x4}    &       0.1262  &        0.422     &     0.299  &         0.765        &       -0.701    &        0.954     \\\\\n",
       "\\textbf{x5}    &      -0.0319  &        0.020     &    -1.605  &         0.109        &       -0.071    &        0.007     \\\\\n",
       "\\bottomrule\n",
       "\\end{tabular}\n",
       "%\\caption{Logit Regression Results}\n",
       "\\end{center}"
      ],
      "text/plain": [
       "<class 'statsmodels.iolib.summary.Summary'>\n",
       "\"\"\"\n",
       "                           Logit Regression Results                           \n",
       "==============================================================================\n",
       "Dep. Variable:                      y   No. Observations:                   58\n",
       "Model:                          Logit   Df Residuals:                       52\n",
       "Method:                           MLE   Df Model:                            5\n",
       "Date:                Wed, 20 Nov 2024   Pseudo R-squ.:                  0.4779\n",
       "Time:                        14:46:11   Log-Likelihood:                -19.824\n",
       "converged:                       True   LL-Null:                       -37.967\n",
       "Covariance Type:            nonrobust   LLR p-value:                 8.325e-07\n",
       "==============================================================================\n",
       "                 coef    std err          z      P>|z|      [0.025      0.975]\n",
       "------------------------------------------------------------------------------\n",
       "const        -10.9423      3.871     -2.827      0.005     -18.529      -3.356\n",
       "x1             0.4555      0.180      2.529      0.011       0.102       0.809\n",
       "x2             0.8085      0.436      1.855      0.064      -0.046       1.663\n",
       "x3            -0.3559      0.418     -0.852      0.394      -1.175       0.463\n",
       "x4             0.1262      0.422      0.299      0.765      -0.701       0.954\n",
       "x5            -0.0319      0.020     -1.605      0.109      -0.071       0.007\n",
       "==============================================================================\n",
       "\"\"\""
      ]
     },
     "execution_count": 11,
     "metadata": {},
     "output_type": "execute_result"
    }
   ],
   "source": [
    "logit_model = sm.Logit(Y, X).fit()\n",
    "logit_model.summary()"
   ]
  },
  {
   "cell_type": "markdown",
   "metadata": {},
   "source": [
    "Запись уравнения регрессии"
   ]
  },
  {
   "cell_type": "code",
   "execution_count": 16,
   "metadata": {},
   "outputs": [
    {
     "name": "stdout",
     "output_type": "stream",
     "text": [
      "Уравнение регрессии (logit):\n"
     ]
    },
    {
     "data": {
      "text/plain": [
       "'y = 1 / (1 + exp(-(-10.9423 + 0.4555*x1 + 0.8085*x2 + -0.3559*x3 + 0.1262*x4 + -0.0319*x5))'"
      ]
     },
     "execution_count": 16,
     "metadata": {},
     "output_type": "execute_result"
    }
   ],
   "source": [
    "coefficients = logit_model.params\n",
    "print(\"Уравнение регрессии (logit):\")\n",
    "equation_logit = \"y = 1 / (1 + exp(-({:.4f} + {:.4f}*x1 + {:.4f}*x2 + {:.4f}*x3 + {:.4f}*x4 + {:.4f}*x5))\".format(\n",
    "    coefficients.iloc[0], coefficients.iloc[1], coefficients.iloc[2], coefficients.iloc[3], coefficients.iloc[4], coefficients.iloc[5]\n",
    ")\n",
    "\n",
    "equation_logit\n",
    "\n"
   ]
  },
  {
   "cell_type": "markdown",
   "metadata": {},
   "source": [
    "значимость коэффициентов регрессии"
   ]
  },
  {
   "cell_type": "code",
   "execution_count": 17,
   "metadata": {},
   "outputs": [
    {
     "name": "stdout",
     "output_type": "stream",
     "text": [
      "Значимость коэффициентов:\n"
     ]
    },
    {
     "data": {
      "text/plain": [
       "const    0.004699\n",
       "x1       0.011451\n",
       "x2       0.063629\n",
       "x3       0.394305\n",
       "x4       0.765029\n",
       "x5       0.108591\n",
       "dtype: float64"
      ]
     },
     "execution_count": 17,
     "metadata": {},
     "output_type": "execute_result"
    }
   ],
   "source": [
    "print(\"Значимость коэффициентов:\")\n",
    "logit_model.pvalues"
   ]
  },
  {
   "cell_type": "markdown",
   "metadata": {},
   "source": [
    "Проверка значимости регрессии в целом по критерию Вальда\n"
   ]
  },
  {
   "cell_type": "code",
   "execution_count": 18,
   "metadata": {},
   "outputs": [
    {
     "name": "stdout",
     "output_type": "stream",
     "text": [
      "Критерий Вальда: 36.28609303282266, p-value: 8.32515761810171e-07\n"
     ]
    }
   ],
   "source": [
    "# Проверка значимости регрессии в целом по критерию Вальда\n",
    "wald_stat = logit_model.llr\n",
    "wald_pvalue = logit_model.llr_pvalue\n",
    "print(f\"Критерий Вальда: {wald_stat}, p-value: {wald_pvalue}\")"
   ]
  },
  {
   "cell_type": "markdown",
   "metadata": {},
   "source": [
    "Значимость регрессии с помощью метода максимального правдоподобия"
   ]
  },
  {
   "cell_type": "code",
   "execution_count": null,
   "metadata": {},
   "outputs": [
    {
     "name": "stdout",
     "output_type": "stream",
     "text": [
      "Критерий максимального правдоподобия (логарифмы):\n",
      "Логарифм правдоподобия нулевой модели: -37.9668\n",
      "Логарифм правдоподобия полной модели: -19.8237\n",
      "Статистика хи-квадрат = 36.2861\n",
      "Количество степеней свободы = 5.0\n",
      "p-value = 0.0000008325157618\n",
      "Полная модель значимо лучше нулевой модели (на уровне значимости 0.05).\n"
     ]
    }
   ],
   "source": [
    "llf_null = logit_model.llnull  # Логарифм правдоподобия нулевой модели\n",
    "llf_model = logit_model.llf    # Логарифм правдоподобия полной модели\n",
    "\n",
    "chi_square_stat = -2 * (llf_null - llf_model)\n",
    "\n",
    "df_difference = logit_model.df_model\n",
    "p_value_likelihood = stats.chi2.sf(chi_square_stat, df_difference)\n",
    "\n",
    "print(f\"Критерий максимального правдоподобия (логарифмы):\")\n",
    "print(f\"Логарифм правдоподобия нулевой модели: {llf_null:.4f}\")\n",
    "print(f\"Логарифм правдоподобия полной модели: {llf_model:.4f}\")\n",
    "print(f\"Статистика хи-квадрат = {chi_square_stat:.4f}\")\n",
    "print(f\"Количество степеней свободы = {df_difference}\")\n",
    "print(f\"p-value = {p_value_likelihood:.16f}\")\n",
    "\n",
    "# Интерпретация результата\n",
    "if p_value_likelihood < 0.05:\n",
    "    print(\"Полная модель значимо лучше нулевой модели (на уровне значимости 0.05).\")\n",
    "else:\n",
    "    print(\"Полная модель не имеет значимых улучшений по сравнению с нулевой моделью.\")\n"
   ]
  },
  {
   "cell_type": "markdown",
   "metadata": {},
   "source": [
    "Доверительные интервалы для коэффициентов"
   ]
  },
  {
   "cell_type": "code",
   "execution_count": 22,
   "metadata": {},
   "outputs": [
    {
     "name": "stdout",
     "output_type": "stream",
     "text": [
      "Доверительные интервалы:\n"
     ]
    },
    {
     "data": {
      "text/html": [
       "<div>\n",
       "<style scoped>\n",
       "    .dataframe tbody tr th:only-of-type {\n",
       "        vertical-align: middle;\n",
       "    }\n",
       "\n",
       "    .dataframe tbody tr th {\n",
       "        vertical-align: top;\n",
       "    }\n",
       "\n",
       "    .dataframe thead th {\n",
       "        text-align: right;\n",
       "    }\n",
       "</style>\n",
       "<table border=\"1\" class=\"dataframe\">\n",
       "  <thead>\n",
       "    <tr style=\"text-align: right;\">\n",
       "      <th></th>\n",
       "      <th>0</th>\n",
       "      <th>1</th>\n",
       "    </tr>\n",
       "  </thead>\n",
       "  <tbody>\n",
       "    <tr>\n",
       "      <th>const</th>\n",
       "      <td>-18.528639</td>\n",
       "      <td>-3.355914</td>\n",
       "    </tr>\n",
       "    <tr>\n",
       "      <th>x1</th>\n",
       "      <td>0.102432</td>\n",
       "      <td>0.808508</td>\n",
       "    </tr>\n",
       "    <tr>\n",
       "      <th>x2</th>\n",
       "      <td>-0.045854</td>\n",
       "      <td>1.662881</td>\n",
       "    </tr>\n",
       "    <tr>\n",
       "      <th>x3</th>\n",
       "      <td>-1.174720</td>\n",
       "      <td>0.462956</td>\n",
       "    </tr>\n",
       "    <tr>\n",
       "      <th>x4</th>\n",
       "      <td>-0.701351</td>\n",
       "      <td>0.953744</td>\n",
       "    </tr>\n",
       "    <tr>\n",
       "      <th>x5</th>\n",
       "      <td>-0.070765</td>\n",
       "      <td>0.007056</td>\n",
       "    </tr>\n",
       "  </tbody>\n",
       "</table>\n",
       "</div>"
      ],
      "text/plain": [
       "               0         1\n",
       "const -18.528639 -3.355914\n",
       "x1      0.102432  0.808508\n",
       "x2     -0.045854  1.662881\n",
       "x3     -1.174720  0.462956\n",
       "x4     -0.701351  0.953744\n",
       "x5     -0.070765  0.007056"
      ]
     },
     "execution_count": 22,
     "metadata": {},
     "output_type": "execute_result"
    }
   ],
   "source": [
    "conf_intervals = logit_model.conf_int()\n",
    "print(\"Доверительные интервалы:\")\n",
    "conf_intervals"
   ]
  },
  {
   "cell_type": "markdown",
   "metadata": {},
   "source": [
    "Сравнение логит и пробит моделей"
   ]
  },
  {
   "cell_type": "code",
   "execution_count": 23,
   "metadata": {},
   "outputs": [
    {
     "name": "stdout",
     "output_type": "stream",
     "text": [
      "Optimization terminated successfully.\n",
      "         Current function value: 0.342187\n",
      "         Iterations 7\n",
      "                          Probit Regression Results                           \n",
      "==============================================================================\n",
      "Dep. Variable:                      y   No. Observations:                   58\n",
      "Model:                         Probit   Df Residuals:                       52\n",
      "Method:                           MLE   Df Model:                            5\n",
      "Date:                Wed, 20 Nov 2024   Pseudo R-squ.:                  0.4773\n",
      "Time:                        15:17:56   Log-Likelihood:                -19.847\n",
      "converged:                       True   LL-Null:                       -37.967\n",
      "Covariance Type:            nonrobust   LLR p-value:                 8.504e-07\n",
      "==============================================================================\n",
      "                 coef    std err          z      P>|z|      [0.025      0.975]\n",
      "------------------------------------------------------------------------------\n",
      "const         -6.2387      2.132     -2.926      0.003     -10.418      -2.060\n",
      "x1             0.2601      0.101      2.574      0.010       0.062       0.458\n",
      "x2             0.4682      0.248      1.890      0.059      -0.017       0.954\n",
      "x3            -0.2173      0.242     -0.899      0.369      -0.691       0.256\n",
      "x4             0.0603      0.241      0.250      0.803      -0.413       0.533\n",
      "x5            -0.0179      0.011     -1.650      0.099      -0.039       0.003\n",
      "==============================================================================\n",
      "Уравнение регрессии (probit):\n",
      "y = Φ(-6.2387 + 0.2601*x1 + 0.4682*x2 + -0.2173*x3 + 0.0603*x4 + -0.0179*x5)\n",
      "AIC Logit модели: 51.64742827612176\n",
      "AIC Probit модели: 51.69364070100063\n"
     ]
    }
   ],
   "source": [
    "probit_model = sm.Probit(Y, X).fit()\n",
    "coefficients_probit = probit_model.params\n",
    "print(probit_model.summary())\n",
    "print(\"Уравнение регрессии (probit):\")\n",
    "equation_probit = \"y = Φ({:.4f} + {:.4f}*x1 + {:.4f}*x2 + {:.4f}*x3 + {:.4f}*x4 + {:.4f}*x5)\".format(\n",
    "    coefficients_probit.iloc[0], coefficients_probit.iloc[1], coefficients_probit.iloc[2],\n",
    "    coefficients_probit.iloc[3], coefficients_probit.iloc[4], coefficients_probit.iloc[5]\n",
    ")\n",
    "print(equation_probit)\n",
    "print(\"AIC Logit модели:\", logit_model.aic)\n",
    "print(\"AIC Probit модели:\", probit_model.aic)\n"
   ]
  },
  {
   "cell_type": "markdown",
   "metadata": {},
   "source": [
    "Построение таблицы сопряженности с порогом 0.5"
   ]
  },
  {
   "cell_type": "code",
   "execution_count": 29,
   "metadata": {},
   "outputs": [
    {
     "name": "stdout",
     "output_type": "stream",
     "text": [
      "Таблица сопряженности при пороге 0.5:\n"
     ]
    },
    {
     "data": {
      "text/plain": [
       "array([[18,  3],\n",
       "       [ 3, 34]], dtype=int64)"
      ]
     },
     "execution_count": 29,
     "metadata": {},
     "output_type": "execute_result"
    }
   ],
   "source": [
    "y_pred = logit_model.predict(X)\n",
    "y_pred_class = (y_pred >= 0.5).astype(int)\n",
    "conf_matrix = confusion_matrix(Y, y_pred_class)\n",
    "print(\"Таблица сопряженности при пороге 0.5:\")\n",
    "conf_matrix"
   ]
  },
  {
   "cell_type": "markdown",
   "metadata": {},
   "source": [
    "Чувствительность и специфичность\n"
   ]
  },
  {
   "cell_type": "code",
   "execution_count": 25,
   "metadata": {},
   "outputs": [
    {
     "name": "stdout",
     "output_type": "stream",
     "text": [
      "Чувствительность: 0.9189, Специфичность: 0.8571\n"
     ]
    }
   ],
   "source": [
    "TN, FP, FN, TP = conf_matrix.ravel()\n",
    "sensitivity = TP / (TP + FN)\n",
    "specificity = TN / (TN + FP)\n",
    "print(f\"Чувствительность: {sensitivity:.4f}, Специфичность: {specificity:.4f}\")\n"
   ]
  },
  {
   "cell_type": "markdown",
   "metadata": {},
   "source": [
    "Оптимальное пороговое значение и чувствительность и специфичность при оптимальном пороге"
   ]
  },
  {
   "cell_type": "code",
   "execution_count": 27,
   "metadata": {},
   "outputs": [
    {
     "name": "stdout",
     "output_type": "stream",
     "text": [
      "Оптимальный порог: 0.5376\n",
      "Таблица сопряженности при оптимальном пороге:\n",
      "[[18  3]\n",
      " [ 3 34]]\n",
      "Чувствительность при оптимальном пороге: 0.9189, Специфичность: 0.8571\n"
     ]
    }
   ],
   "source": [
    "\n",
    "fpr, tpr, thresholds = roc_curve(Y, y_pred)\n",
    "you_index = np.argmax(tpr - fpr)\n",
    "optimal_threshold = thresholds[you_index]\n",
    "print(f\"Оптимальный порог: {optimal_threshold:.4f}\")\n",
    "\n",
    "y_pred_class_optimal = (y_pred >= optimal_threshold).astype(int)\n",
    "conf_matrix_optimal = confusion_matrix(Y, y_pred_class_optimal)\n",
    "print(\"Таблица сопряженности при оптимальном пороге:\")\n",
    "print(conf_matrix_optimal)\n",
    "\n",
    "TN, FP, FN, TP = conf_matrix_optimal.ravel()\n",
    "sensitivity_optimal = TP / (TP + FN)\n",
    "specificity_optimal = TN / (TN + FP)\n",
    "print(f\"Чувствительность при оптимальном пороге: {sensitivity_optimal:.4f}, Специфичность: {specificity_optimal:.4f}\")\n"
   ]
  },
  {
   "cell_type": "markdown",
   "metadata": {},
   "source": [
    "Разделение данных на тренировочную и тестовую выборки"
   ]
  },
  {
   "cell_type": "code",
   "execution_count": 30,
   "metadata": {},
   "outputs": [
    {
     "name": "stdout",
     "output_type": "stream",
     "text": [
      "Optimization terminated successfully.\n",
      "         Current function value: 0.307286\n",
      "         Iterations 8\n"
     ]
    }
   ],
   "source": [
    "X_train, X_test, Y_train, Y_test = train_test_split(X, Y, test_size=0.3, random_state=42)\n",
    "logit_model_train = sm.Logit(Y_train, X_train).fit()"
   ]
  },
  {
   "cell_type": "markdown",
   "metadata": {},
   "source": [
    " ROC-кривая\n"
   ]
  },
  {
   "cell_type": "code",
   "execution_count": 35,
   "metadata": {},
   "outputs": [
    {
     "name": "stdout",
     "output_type": "stream",
     "text": [
      "AUC: 0.7922\n"
     ]
    },
    {
     "data": {
      "image/png": "[encoded data removed]",
      "text/plain": [
       "<Figure size 800x600 with 1 Axes>"
      ]
     },
     "metadata": {},
     "output_type": "display_data"
    }
   ],
   "source": [
    "y_test_pred = logit_model_train.predict(X_test)\n",
    "roc_auc = roc_auc_score(Y_test, y_test_pred)\n",
    "print(f\"AUC: {roc_auc:.4f}\")\n",
    "\n",
    "false_positive_rate, true_positive_rate, _ = roc_curve(Y_test, y_test_pred)\n",
    "\n",
    "\n",
    "plt.figure(figsize=(8, 6))\n",
    "plt.plot(false_positive_rate, true_positive_rate, color='darkorange', linewidth=2, label=f'AUC = {roc_auc:.4f}')\n",
    "plt.plot([0, 1], [0, 1], color='navy', linestyle='--', linewidth=2, label='Случайное угадывание')\n",
    "plt.fill_between(false_positive_rate, 0, true_positive_rate, color='orange', alpha=0.2, label='AUC Area')\n",
    "\n",
    "# Настройки графика\n",
    "plt.title('График ROC-кривой', fontsize=16)\n",
    "plt.xlabel('Доля ложноположительных срабатываний', fontsize=12)\n",
    "plt.ylabel('Доля истинноположительных срабатываний', fontsize=12)\n",
    "plt.legend(loc='lower right', fontsize=10)\n",
    "plt.grid(alpha=0.3)\n",
    "\n",
    "# Отображение графика\n",
    "plt.show()"
   ]
  },
  {
   "cell_type": "markdown",
   "metadata": {},
   "source": [
    "Улучшение модели с помощью уменьшения AIC"
   ]
  },
  {
   "cell_type": "code",
   "execution_count": 36,
   "metadata": {},
   "outputs": [
    {
     "name": "stdout",
     "output_type": "stream",
     "text": [
      "Optimization terminated successfully.\n",
      "         Current function value: 0.307286\n",
      "         Iterations: 33\n",
      "         Function evaluations: 35\n",
      "         Gradient evaluations: 35\n",
      "AIC улучшенной модели: 36.58288692742908\n",
      "                           Logit Regression Results                           \n",
      "==============================================================================\n",
      "Dep. Variable:                      y   No. Observations:                   40\n",
      "Model:                          Logit   Df Residuals:                       34\n",
      "Method:                           MLE   Df Model:                            5\n",
      "Date:                Wed, 20 Nov 2024   Pseudo R-squ.:                  0.5254\n",
      "Time:                        15:31:50   Log-Likelihood:                -12.291\n",
      "converged:                       True   LL-Null:                       -25.898\n",
      "Covariance Type:            nonrobust   LLR p-value:                 5.185e-05\n",
      "==============================================================================\n",
      "                 coef    std err          z      P>|z|      [0.025      0.975]\n",
      "------------------------------------------------------------------------------\n",
      "const         -9.3026      4.551     -2.044      0.041     -18.222      -0.383\n",
      "x1             0.4980      0.219      2.272      0.023       0.068       0.928\n",
      "x2            -0.1236      0.666     -0.186      0.853      -1.428       1.181\n",
      "x3             0.7485      0.738      1.014      0.311      -0.699       2.196\n",
      "x4            -0.3330      0.663     -0.502      0.616      -1.633       0.967\n",
      "x5            -0.0206      0.022     -0.953      0.340      -0.063       0.022\n",
      "==============================================================================\n"
     ]
    }
   ],
   "source": [
    "logit_model_aic = sm.Logit(Y_train, X_train).fit(method='bfgs', maxiter=200)\n",
    "print(\"AIC улучшенной модели:\", logit_model_aic.aic)\n",
    "print(logit_model_aic.summary())"
   ]
  }
 ],
 "metadata": {
  "kernelspec": {
   "display_name": "Python 3",
   "language": "python",
   "name": "python3"
  },
  "language_info": {
   "codemirror_mode": {
    "name": "ipython",
    "version": 3
   },
   "file_extension": ".py",
   "mimetype": "text/x-python",
   "name": "python",
   "nbconvert_exporter": "python",
   "pygments_lexer": "ipython3",
   "version": "3.11.3"
  }
 },
 "nbformat": 4,
 "nbformat_minor": 2
}
